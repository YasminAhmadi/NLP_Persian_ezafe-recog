{
  "cells": [
    {
      "cell_type": "code",
      "execution_count": null,
      "id": "d049eb8b",
      "metadata": {
        "id": "d049eb8b"
      },
      "outputs": [],
      "source": [
        "import numpy as np\n",
        "import pandas as pd\n",
        "from sklearn import preprocessing\n",
        "from sklearn.tree import DecisionTreeClassifier"
      ]
    },
    {
      "cell_type": "code",
      "execution_count": null,
      "id": "a869cfee",
      "metadata": {
        "id": "a869cfee"
      },
      "outputs": [],
      "source": [
        "#Reading the dataset\n",
        "Data = pd.read_csv('updated_bijankhan_corpus.csv', dtype=str, encoding='utf-8-sig', engine='python')"
      ]
    },
    {
      "cell_type": "code",
      "execution_count": null,
      "id": "9f5fbb40",
      "metadata": {
        "id": "9f5fbb40",
        "outputId": "63c9fe63-ae44-46d5-f9f7-e2309c16e50b"
      },
      "outputs": [
        {
          "data": {
            "text/html": [
              "<div>\n",
              "<style scoped>\n",
              "    .dataframe tbody tr th:only-of-type {\n",
              "        vertical-align: middle;\n",
              "    }\n",
              "\n",
              "    .dataframe tbody tr th {\n",
              "        vertical-align: top;\n",
              "    }\n",
              "\n",
              "    .dataframe thead th {\n",
              "        text-align: right;\n",
              "    }\n",
              "</style>\n",
              "<table border=\"1\" class=\"dataframe\">\n",
              "  <thead>\n",
              "    <tr style=\"text-align: right;\">\n",
              "      <th></th>\n",
              "      <th>Unnamed: 0</th>\n",
              "      <th>token</th>\n",
              "      <th>pos_tag</th>\n",
              "      <th>ezafe_tag</th>\n",
              "    </tr>\n",
              "  </thead>\n",
              "  <tbody>\n",
              "    <tr>\n",
              "      <th>0</th>\n",
              "      <td>0</td>\n",
              "      <td>!هنری!</td>\n",
              "      <td>SUBJ</td>\n",
              "      <td>0</td>\n",
              "    </tr>\n",
              "    <tr>\n",
              "      <th>1</th>\n",
              "      <td>1</td>\n",
              "      <td>#</td>\n",
              "      <td>DELM</td>\n",
              "      <td>0</td>\n",
              "    </tr>\n",
              "    <tr>\n",
              "      <th>2</th>\n",
              "      <td>2</td>\n",
              "      <td>مسعود</td>\n",
              "      <td>N_SING_PR</td>\n",
              "      <td>1</td>\n",
              "    </tr>\n",
              "    <tr>\n",
              "      <th>3</th>\n",
              "      <td>3</td>\n",
              "      <td>شجاعی</td>\n",
              "      <td>N_SING_PR</td>\n",
              "      <td>1</td>\n",
              "    </tr>\n",
              "    <tr>\n",
              "      <th>4</th>\n",
              "      <td>4</td>\n",
              "      <td>طباطبایی</td>\n",
              "      <td>N_SING_PR</td>\n",
              "      <td>0</td>\n",
              "    </tr>\n",
              "  </tbody>\n",
              "</table>\n",
              "</div>"
            ],
            "text/plain": [
              "  Unnamed: 0     token    pos_tag ezafe_tag\n",
              "0          0    !هنری!       SUBJ         0\n",
              "1          1         #       DELM         0\n",
              "2          2     مسعود  N_SING_PR         1\n",
              "3          3     شجاعی  N_SING_PR         1\n",
              "4          4  طباطبایی  N_SING_PR         0"
            ]
          },
          "execution_count": 18,
          "metadata": {},
          "output_type": "execute_result"
        }
      ],
      "source": [
        "Data.head()"
      ]
    },
    {
      "cell_type": "code",
      "execution_count": null,
      "id": "8d749230",
      "metadata": {
        "id": "8d749230"
      },
      "outputs": [],
      "source": [
        "#Converting the read data to array\n",
        "Data = Data.to_numpy(dtype = object)"
      ]
    },
    {
      "cell_type": "code",
      "execution_count": null,
      "id": "d1b73e03",
      "metadata": {
        "id": "d1b73e03",
        "outputId": "448f60fe-c1e9-4892-c389-b1228c8f9239"
      },
      "outputs": [
        {
          "data": {
            "text/plain": [
              "(2602536, 4)"
            ]
          },
          "execution_count": 20,
          "metadata": {},
          "output_type": "execute_result"
        }
      ],
      "source": [
        "#we get the shape of data (which is 2602536 in 4 columns)\n",
        "Data.shape"
      ]
    },
    {
      "cell_type": "code",
      "execution_count": null,
      "id": "e2e27533",
      "metadata": {
        "id": "e2e27533"
      },
      "outputs": [],
      "source": [
        "#the target and feature data respectively\n",
        "Data_x = Data[:,1:-1]\n",
        "Data_y = Data[:,-1]"
      ]
    },
    {
      "cell_type": "code",
      "execution_count": null,
      "id": "6804e854",
      "metadata": {
        "id": "6804e854"
      },
      "outputs": [],
      "source": [
        "#here is the main part of the code\n",
        "#cleaning up numbers and punctuations from the text by replacing them with space\n",
        "#when a character similar to one in these arrays is detected\n",
        "numbers = ['0','1','2','3','4','5','6','7','8','9']\n",
        "punctuation = ['`','-','=',',','[',']',';','/','.',',','~','!','@','#','$','%','^','&','*',\n",
        "               '(',')','_','+','|','{','}',':','\"','?','<','>','}','’','“','”' , '\\'' , '،', '«' , '»', '؟']\n",
        "\n",
        "def text_cleaner(text_Data):\n",
        "\n",
        "    data_processed = []\n",
        "\n",
        "    for i in range(len(text_Data)):\n",
        "        for character in text_Data[i,0]:\n",
        "            if character in numbers or character in punctuation and text_Data[i,1] != 'DELM':\n",
        "                text_Data[i,0] = text_Data[i,0].replace(character, \"\")\n",
        "        text_Data[i,0] = text_Data[i,0].strip()\n",
        "        data_processed.append(text_Data[i,:])\n",
        "\n",
        "    return np.array(data_processed)"
      ]
    },
    {
      "cell_type": "code",
      "execution_count": null,
      "id": "2534445b",
      "metadata": {
        "id": "2534445b"
      },
      "outputs": [],
      "source": [
        "#removing stuff from data with the explained function\n",
        "Data_x = text_cleaner(Data_x)"
      ]
    },
    {
      "cell_type": "code",
      "execution_count": null,
      "id": "c446e9d3",
      "metadata": {
        "id": "c446e9d3"
      },
      "outputs": [],
      "source": [
        "#using an encode we convert the word places to numbers\n",
        "le = preprocessing.LabelEncoder()\n",
        "Data_x_pos = le.fit_transform(np.array(Data_x[:,1], dtype = 'str'))"
      ]
    },
    {
      "cell_type": "code",
      "execution_count": null,
      "id": "8f2459d5",
      "metadata": {
        "id": "8f2459d5"
      },
      "outputs": [],
      "source": [
        "#splitting the train and text x and y's\n",
        "#all except the last 100000 for training and the last 100000 for test\n",
        "X_train = Data_x_pos[:-100000]\n",
        "y_train = Data_y[:-100001].astype(np.int32)\n",
        "\n",
        "X_test = Data_x_pos[-100000:]\n",
        "y_test = Data_y[-100000:-1].astype(np.int32)"
      ]
    },
    {
      "cell_type": "code",
      "execution_count": null,
      "id": "36cf79df",
      "metadata": {
        "id": "36cf79df"
      },
      "outputs": [],
      "source": [
        "X_train = X_train.reshape(-1, 1)\n",
        "X_train = np.hstack((X_train[ :-1], X_train[1: ]))\n",
        "\n",
        "X_test = X_test.reshape(-1, 1)\n",
        "X_test = np.hstack((X_test[ :-1], X_test[1: ]))"
      ]
    },
    {
      "cell_type": "code",
      "execution_count": null,
      "id": "d80e7b6a",
      "metadata": {
        "id": "d80e7b6a"
      },
      "outputs": [],
      "source": [
        "#the used model in this code is Decision Tree\n",
        "model = DecisionTreeClassifier().fit(X_train, y_train)\n",
        "Accuracy = model.score(X_test, y_test)"
      ]
    },
    {
      "cell_type": "code",
      "execution_count": null,
      "id": "802da4c2",
      "metadata": {
        "id": "802da4c2",
        "outputId": "4c5c5461-4a63-4e7d-a69d-ccd1d83a764d"
      },
      "outputs": [
        {
          "name": "stdout",
          "output_type": "stream",
          "text": [
            "Accuracy is:  0.9409794097940979\n"
          ]
        }
      ],
      "source": [
        "print('Accuracy is: ', Accuracy)"
      ]
    },
    {
      "cell_type": "code",
      "execution_count": null,
      "id": "b0c138fc",
      "metadata": {
        "id": "b0c138fc"
      },
      "outputs": [],
      "source": [
        "#for a given sentence we want to return the predicted \"kasre ezafe\"\n",
        "#tokenizing the sentence\n",
        "sentence = input('The Given Sentence: ')\n",
        "words = sentence.split()"
      ]
    },
    {
      "cell_type": "code",
      "execution_count": null,
      "id": "492047ce",
      "metadata": {
        "id": "492047ce"
      },
      "outputs": [],
      "source": [
        "#in this array we store the 0 and 1's according to the predicted \"kasre ezafe\"\n",
        "predictions = []\n",
        "for i in range(len(words) - 1):\n",
        "  sample = np.zeros((1, 2))\n",
        "  if words[i] in Data_x[:,0]:\n",
        "    index = np.where(words[i] == Data_x[:,0])[0][0]\n",
        "    sample[0, 0] = Data_x_pos[index]\n",
        "\n",
        "  if words[i + 1] in Data_x[:,0]:\n",
        "    index = np.where(words[i + 1] == Data_x[:,0])[0][0]\n",
        "    sample[0, 1] = Data_x_pos[index]\n",
        "\n",
        "  predict = model.predict(sample)[0]\n",
        "  predictions.append(predict)\n",
        "predictions.append(0)\n",
        "#if 1 is appended for an according word that word is predicted to be having a \"kasre ezafe\"\n",
        "#otherwise 0"
      ]
    },
    {
      "cell_type": "code",
      "execution_count": null,
      "id": "02f47aee",
      "metadata": {
        "id": "02f47aee"
      },
      "outputs": [],
      "source": [
        "print(predictions)"
      ]
    }
  ],
  "metadata": {
    "kernelspec": {
      "display_name": "Python 3 (ipykernel)",
      "language": "python",
      "name": "python3"
    },
    "language_info": {
      "codemirror_mode": {
        "name": "ipython",
        "version": 3
      },
      "file_extension": ".py",
      "mimetype": "text/x-python",
      "name": "python",
      "nbconvert_exporter": "python",
      "pygments_lexer": "ipython3",
      "version": "3.9.7"
    },
    "colab": {
      "provenance": []
    }
  },
  "nbformat": 4,
  "nbformat_minor": 5
}